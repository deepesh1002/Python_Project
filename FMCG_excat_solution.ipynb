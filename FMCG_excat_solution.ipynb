{
 "cells": [
  {
   "cell_type": "code",
   "execution_count": 1,
   "id": "8e875517-1371-4856-a957-59ba4f517133",
   "metadata": {},
   "outputs": [],
   "source": [
    "import pandas as pd\n",
    "import numpy as np\n",
    "import re"
   ]
  },
  {
   "cell_type": "code",
   "execution_count": 4,
   "id": "a0d094ae-4429-445a-acdf-336cb34f8bf3",
   "metadata": {},
   "outputs": [
    {
     "name": "stdout",
     "output_type": "stream",
     "text": [
      "<class 'pandas.core.frame.DataFrame'>\n",
      "RangeIndex: 224 entries, 0 to 223\n",
      "Data columns (total 7 columns):\n",
      " #   Column        Non-Null Count  Dtype \n",
      "---  ------        --------------  ----- \n",
      " 0   Month         224 non-null    object\n",
      " 1   Channel       224 non-null    object\n",
      " 2   Sub-Channels  224 non-null    object\n",
      " 3   Product Name  224 non-null    object\n",
      " 4   Category      224 non-null    object\n",
      " 5   Qty           224 non-null    object\n",
      " 6   Sales         224 non-null    object\n",
      "dtypes: object(7)\n",
      "memory usage: 12.4+ KB\n",
      "None\n"
     ]
    },
    {
     "data": {
      "text/html": [
       "<div>\n",
       "<style scoped>\n",
       "    .dataframe tbody tr th:only-of-type {\n",
       "        vertical-align: middle;\n",
       "    }\n",
       "\n",
       "    .dataframe tbody tr th {\n",
       "        vertical-align: top;\n",
       "    }\n",
       "\n",
       "    .dataframe thead th {\n",
       "        text-align: right;\n",
       "    }\n",
       "</style>\n",
       "<table border=\"1\" class=\"dataframe\">\n",
       "  <thead>\n",
       "    <tr style=\"text-align: right;\">\n",
       "      <th></th>\n",
       "      <th>Month</th>\n",
       "      <th>Channel</th>\n",
       "      <th>Sub-Channels</th>\n",
       "      <th>Product Name</th>\n",
       "      <th>Category</th>\n",
       "      <th>Qty</th>\n",
       "      <th>Sales</th>\n",
       "    </tr>\n",
       "  </thead>\n",
       "  <tbody>\n",
       "    <tr>\n",
       "      <th>0</th>\n",
       "      <td>01-Dec-20</td>\n",
       "      <td>Marketplace</td>\n",
       "      <td>AMAZON</td>\n",
       "      <td>ALOE + AMLA JUICE 1 L</td>\n",
       "      <td>Juices</td>\n",
       "      <td>1,116</td>\n",
       "      <td>4,28,700</td>\n",
       "    </tr>\n",
       "    <tr>\n",
       "      <th>1</th>\n",
       "      <td>01-Dec-20</td>\n",
       "      <td>Marketplace</td>\n",
       "      <td>AMAZON</td>\n",
       "      <td>ALOE + GARCINIA JUICE 1 L</td>\n",
       "      <td>Juices</td>\n",
       "      <td>3,003</td>\n",
       "      <td>13,74,831</td>\n",
       "    </tr>\n",
       "    <tr>\n",
       "      <th>2</th>\n",
       "      <td>01-Dec-20</td>\n",
       "      <td>Marketplace</td>\n",
       "      <td>AMAZON</td>\n",
       "      <td>ALOE VERA JUICE 1 L</td>\n",
       "      <td>Juices</td>\n",
       "      <td>2,962</td>\n",
       "      <td>7,32,167</td>\n",
       "    </tr>\n",
       "    <tr>\n",
       "      <th>3</th>\n",
       "      <td>01-Dec-20</td>\n",
       "      <td>Marketplace</td>\n",
       "      <td>AMAZON</td>\n",
       "      <td>ALOE VERA SKIN GEL 500 GM</td>\n",
       "      <td>Gourmet Nutrition</td>\n",
       "      <td>1,004</td>\n",
       "      <td>3,77,100</td>\n",
       "    </tr>\n",
       "    <tr>\n",
       "      <th>4</th>\n",
       "      <td>01-Dec-20</td>\n",
       "      <td>Marketplace</td>\n",
       "      <td>AMAZON</td>\n",
       "      <td>NEEM JUICE 1 L</td>\n",
       "      <td>Juices</td>\n",
       "      <td>555</td>\n",
       "      <td>1,52,287</td>\n",
       "    </tr>\n",
       "    <tr>\n",
       "      <th>5</th>\n",
       "      <td>01-Dec-20</td>\n",
       "      <td>Marketplace</td>\n",
       "      <td>AMAZON</td>\n",
       "      <td>NONI JUICE 1 L</td>\n",
       "      <td>Juices</td>\n",
       "      <td>874</td>\n",
       "      <td>4,02,631</td>\n",
       "    </tr>\n",
       "    <tr>\n",
       "      <th>6</th>\n",
       "      <td>01-Dec-20</td>\n",
       "      <td>Marketplace</td>\n",
       "      <td>AMAZON</td>\n",
       "      <td>SLIM SHAKE - CHOCOLATE 500 GM</td>\n",
       "      <td>Functional nutrition</td>\n",
       "      <td>658</td>\n",
       "      <td>7,58,234</td>\n",
       "    </tr>\n",
       "    <tr>\n",
       "      <th>7</th>\n",
       "      <td>01-Dec-20</td>\n",
       "      <td>Marketplace</td>\n",
       "      <td>AMAZON</td>\n",
       "      <td>SLIM SHAKE - MANGO 500 GM</td>\n",
       "      <td>Functional nutrition</td>\n",
       "      <td>649</td>\n",
       "      <td>7,15,121</td>\n",
       "    </tr>\n",
       "    <tr>\n",
       "      <th>8</th>\n",
       "      <td>01-Dec-20</td>\n",
       "      <td>Marketplace</td>\n",
       "      <td>AMAZON</td>\n",
       "      <td>TRIPHALA JUICE 1 L</td>\n",
       "      <td>Juices</td>\n",
       "      <td>910</td>\n",
       "      <td>2,21,417</td>\n",
       "    </tr>\n",
       "    <tr>\n",
       "      <th>9</th>\n",
       "      <td>01-Dec-20</td>\n",
       "      <td>Marketplace</td>\n",
       "      <td>AMAZON</td>\n",
       "      <td>TULSI GILOY JUICE 1 L</td>\n",
       "      <td>Juices</td>\n",
       "      <td>3,410</td>\n",
       "      <td>11,06,203</td>\n",
       "    </tr>\n",
       "  </tbody>\n",
       "</table>\n",
       "</div>"
      ],
      "text/plain": [
       "       Month      Channel Sub-Channels                   Product Name  \\\n",
       "0  01-Dec-20  Marketplace       AMAZON          ALOE + AMLA JUICE 1 L   \n",
       "1  01-Dec-20  Marketplace       AMAZON      ALOE + GARCINIA JUICE 1 L   \n",
       "2  01-Dec-20  Marketplace       AMAZON            ALOE VERA JUICE 1 L   \n",
       "3  01-Dec-20  Marketplace       AMAZON      ALOE VERA SKIN GEL 500 GM   \n",
       "4  01-Dec-20  Marketplace       AMAZON                 NEEM JUICE 1 L   \n",
       "5  01-Dec-20  Marketplace       AMAZON                 NONI JUICE 1 L   \n",
       "6  01-Dec-20  Marketplace       AMAZON  SLIM SHAKE - CHOCOLATE 500 GM   \n",
       "7  01-Dec-20  Marketplace       AMAZON      SLIM SHAKE - MANGO 500 GM   \n",
       "8  01-Dec-20  Marketplace       AMAZON             TRIPHALA JUICE 1 L   \n",
       "9  01-Dec-20  Marketplace       AMAZON          TULSI GILOY JUICE 1 L   \n",
       "\n",
       "               Category      Qty        Sales  \n",
       "0                Juices   1,116     4,28,700   \n",
       "1                Juices   3,003    13,74,831   \n",
       "2                Juices   2,962     7,32,167   \n",
       "3     Gourmet Nutrition   1,004     3,77,100   \n",
       "4                Juices     555     1,52,287   \n",
       "5                Juices     874     4,02,631   \n",
       "6  Functional nutrition     658     7,58,234   \n",
       "7  Functional nutrition     649     7,15,121   \n",
       "8                Juices     910     2,21,417   \n",
       "9                Juices   3,410    11,06,203   "
      ]
     },
     "execution_count": 4,
     "metadata": {},
     "output_type": "execute_result"
    }
   ],
   "source": [
    "df = pd.read_csv(\"rawdat.csv\")\n",
    "print(df.info())\n",
    "df.head(10)"
   ]
  },
  {
   "cell_type": "markdown",
   "id": "34801814-02ad-4826-9000-bc581ca2ba3b",
   "metadata": {},
   "source": [
    "1. Monthwise number of quantities sold"
   ]
  },
  {
   "cell_type": "code",
   "execution_count": 10,
   "id": "deee3467-cebc-4c9f-84b9-89242967a53e",
   "metadata": {},
   "outputs": [],
   "source": [
    "df['Month']=pd.to_datetime(df['Month'])\n",
    "df['Qty'] = df['Qty'].str.replace(r'\\W',\"\")\n",
    "df['Sales'] = df['Sales'].str.replace(r'\\W',\"\")"
   ]
  },
  {
   "cell_type": "code",
   "execution_count": 14,
   "id": "99ca333e-f213-4f98-b673-218bb5f7be0a",
   "metadata": {},
   "outputs": [],
   "source": [
    "df['Qty']=df['Qty'].astype(float)\n",
    "df['Sales']=df[\"Sales\"].astype(float)"
   ]
  },
  {
   "cell_type": "code",
   "execution_count": 15,
   "id": "5044a7ce-300c-455d-bfdc-4f7ed41e29e3",
   "metadata": {},
   "outputs": [
    {
     "data": {
      "text/plain": [
       "Month           datetime64[ns]\n",
       "Channel                 object\n",
       "Sub-Channels            object\n",
       "Product Name            object\n",
       "Category                object\n",
       "Qty                    float64\n",
       "Sales                  float64\n",
       "dtype: object"
      ]
     },
     "execution_count": 15,
     "metadata": {},
     "output_type": "execute_result"
    }
   ],
   "source": [
    "df.dtypes"
   ]
  },
  {
   "cell_type": "code",
   "execution_count": 17,
   "id": "036dd59e-ee75-4263-9796-0cce55ba8b48",
   "metadata": {},
   "outputs": [
    {
     "data": {
      "text/html": [
       "<div>\n",
       "<style scoped>\n",
       "    .dataframe tbody tr th:only-of-type {\n",
       "        vertical-align: middle;\n",
       "    }\n",
       "\n",
       "    .dataframe tbody tr th {\n",
       "        vertical-align: top;\n",
       "    }\n",
       "\n",
       "    .dataframe thead th {\n",
       "        text-align: right;\n",
       "    }\n",
       "</style>\n",
       "<table border=\"1\" class=\"dataframe\">\n",
       "  <thead>\n",
       "    <tr style=\"text-align: right;\">\n",
       "      <th></th>\n",
       "      <th>only_month</th>\n",
       "      <th>Qty</th>\n",
       "    </tr>\n",
       "  </thead>\n",
       "  <tbody>\n",
       "    <tr>\n",
       "      <th>0</th>\n",
       "      <td>1</td>\n",
       "      <td>67732.0</td>\n",
       "    </tr>\n",
       "    <tr>\n",
       "      <th>1</th>\n",
       "      <td>2</td>\n",
       "      <td>76393.0</td>\n",
       "    </tr>\n",
       "    <tr>\n",
       "      <th>2</th>\n",
       "      <td>3</td>\n",
       "      <td>80229.0</td>\n",
       "    </tr>\n",
       "    <tr>\n",
       "      <th>3</th>\n",
       "      <td>12</td>\n",
       "      <td>85427.0</td>\n",
       "    </tr>\n",
       "  </tbody>\n",
       "</table>\n",
       "</div>"
      ],
      "text/plain": [
       "   only_month      Qty\n",
       "0           1  67732.0\n",
       "1           2  76393.0\n",
       "2           3  80229.0\n",
       "3          12  85427.0"
      ]
     },
     "execution_count": 17,
     "metadata": {},
     "output_type": "execute_result"
    }
   ],
   "source": [
    "df[\"only_month\"]=df['Month'].dt.month\n",
    "df_month_qty=pd.DataFrame(df.groupby('only_month').sum()['Qty']).reset_index()\n",
    "df_month_qty"
   ]
  },
  {
   "cell_type": "markdown",
   "id": "9f17e733-ab72-4f87-aea8-8120f9de1cb4",
   "metadata": {},
   "source": [
    "2. Category wise Qty sold "
   ]
  },
  {
   "cell_type": "code",
   "execution_count": 20,
   "id": "d7fb7c68-eb87-4548-9486-fdcda25a6dfa",
   "metadata": {},
   "outputs": [
    {
     "data": {
      "text/html": [
       "<div>\n",
       "<style scoped>\n",
       "    .dataframe tbody tr th:only-of-type {\n",
       "        vertical-align: middle;\n",
       "    }\n",
       "\n",
       "    .dataframe tbody tr th {\n",
       "        vertical-align: top;\n",
       "    }\n",
       "\n",
       "    .dataframe thead th {\n",
       "        text-align: right;\n",
       "    }\n",
       "</style>\n",
       "<table border=\"1\" class=\"dataframe\">\n",
       "  <thead>\n",
       "    <tr style=\"text-align: right;\">\n",
       "      <th></th>\n",
       "      <th>Category</th>\n",
       "      <th>Qty</th>\n",
       "    </tr>\n",
       "  </thead>\n",
       "  <tbody>\n",
       "    <tr>\n",
       "      <th>0</th>\n",
       "      <td>Functional nutrition</td>\n",
       "      <td>42354.0</td>\n",
       "    </tr>\n",
       "    <tr>\n",
       "      <th>1</th>\n",
       "      <td>Gourmet Nutrition</td>\n",
       "      <td>89279.0</td>\n",
       "    </tr>\n",
       "    <tr>\n",
       "      <th>2</th>\n",
       "      <td>Juices</td>\n",
       "      <td>178148.0</td>\n",
       "    </tr>\n",
       "  </tbody>\n",
       "</table>\n",
       "</div>"
      ],
      "text/plain": [
       "               Category       Qty\n",
       "0  Functional nutrition   42354.0\n",
       "1     Gourmet Nutrition   89279.0\n",
       "2                Juices  178148.0"
      ]
     },
     "execution_count": 20,
     "metadata": {},
     "output_type": "execute_result"
    }
   ],
   "source": [
    "df_cat_qty = pd.DataFrame(df.groupby(['Category']).sum()['Qty']).reset_index()\n",
    "df_cat_qty"
   ]
  },
  {
   "cell_type": "markdown",
   "id": "2010ec05-4e2d-4eb2-83b7-3926a19de2ba",
   "metadata": {},
   "source": [
    "3. Sub-channel wise total sales"
   ]
  },
  {
   "cell_type": "code",
   "execution_count": 21,
   "id": "25c6b86c-a125-446f-8c37-bc95492d951d",
   "metadata": {},
   "outputs": [
    {
     "data": {
      "text/plain": [
       "<bound method DataFrame.reset_index of                         Sales\n",
       "Sub-Channels                 \n",
       "AMAZON             35606804.0\n",
       "Big Basket          1207522.0\n",
       "D2C                28047538.0\n",
       "Flipkart            3770415.0\n",
       "GOQII                582600.0\n",
       "Offline - Central    375332.0\n",
       "Offline - East       811146.0\n",
       "Offline - MT        6257948.0\n",
       "Offline - South     3446395.0\n",
       "Offline - West      6441427.0\n",
       "Offline -North      1206564.0>"
      ]
     },
     "execution_count": 21,
     "metadata": {},
     "output_type": "execute_result"
    }
   ],
   "source": [
    "df_month_sales = pd.DataFrame(df.groupby(['Sub-Channels']).sum()['Sales']).reset_index\n",
    "df_month_sales"
   ]
  },
  {
   "cell_type": "markdown",
   "id": "c07c6cbd-e078-4848-8a19-8f8e4e2cb254",
   "metadata": {},
   "source": [
    "4. Highest sale in which month"
   ]
  },
  {
   "cell_type": "code",
   "execution_count": 22,
   "id": "ef0357ec-3360-4576-82d0-5c5758febc3e",
   "metadata": {},
   "outputs": [
    {
     "data": {
      "text/html": [
       "<div>\n",
       "<style scoped>\n",
       "    .dataframe tbody tr th:only-of-type {\n",
       "        vertical-align: middle;\n",
       "    }\n",
       "\n",
       "    .dataframe tbody tr th {\n",
       "        vertical-align: top;\n",
       "    }\n",
       "\n",
       "    .dataframe thead th {\n",
       "        text-align: right;\n",
       "    }\n",
       "</style>\n",
       "<table border=\"1\" class=\"dataframe\">\n",
       "  <thead>\n",
       "    <tr style=\"text-align: right;\">\n",
       "      <th></th>\n",
       "      <th>only_month</th>\n",
       "      <th>Sales</th>\n",
       "    </tr>\n",
       "  </thead>\n",
       "  <tbody>\n",
       "    <tr>\n",
       "      <th>2</th>\n",
       "      <td>3.0</td>\n",
       "      <td>25127827.0</td>\n",
       "    </tr>\n",
       "  </tbody>\n",
       "</table>\n",
       "</div>"
      ],
      "text/plain": [
       "   only_month       Sales\n",
       "2         3.0  25127827.0"
      ]
     },
     "execution_count": 22,
     "metadata": {},
     "output_type": "execute_result"
    }
   ],
   "source": [
    "df_month_sales = pd.DataFrame(df.groupby('only_month').sum()['Sales']).reset_index()\n",
    "df_month_sales.sort_values(by=['Sales'],inplace=True,ascending=False)\n",
    "df_highest_sales_month = pd.DataFrame(df_month_sales.iloc[0,:]).T\n",
    "df_highest_sales_month #3 is march"
   ]
  },
  {
   "cell_type": "markdown",
   "id": "6c578e80-de9e-4501-b54e-64119f673f2e",
   "metadata": {},
   "source": [
    "5. Highest selling product (based on sales) (packaging quantity doesn't matter. Ex. consider \"GET SLIM\n",
    "JUICE 1 L\" and \"GET SLIM JUICE 500 ML\" as one product)"
   ]
  },
  {
   "cell_type": "code",
   "execution_count": 25,
   "id": "0ea55f61-766b-4abd-8d05-65f136e002fe",
   "metadata": {},
   "outputs": [
    {
     "ename": "KeyError",
     "evalue": "'Product_Name_clean'",
     "output_type": "error",
     "traceback": [
      "\u001b[1;31m---------------------------------------------------------------------------\u001b[0m",
      "\u001b[1;31mKeyError\u001b[0m                                  Traceback (most recent call last)",
      "\u001b[1;32mC:\\ProgramData\\Anaconda3\\lib\\site-packages\\pandas\\core\\indexes\\base.py\u001b[0m in \u001b[0;36mget_loc\u001b[1;34m(self, key, method, tolerance)\u001b[0m\n\u001b[0;32m   3628\u001b[0m             \u001b[1;32mtry\u001b[0m\u001b[1;33m:\u001b[0m\u001b[1;33m\u001b[0m\u001b[1;33m\u001b[0m\u001b[0m\n\u001b[1;32m-> 3629\u001b[1;33m                 \u001b[1;32mreturn\u001b[0m \u001b[0mself\u001b[0m\u001b[1;33m.\u001b[0m\u001b[0m_engine\u001b[0m\u001b[1;33m.\u001b[0m\u001b[0mget_loc\u001b[0m\u001b[1;33m(\u001b[0m\u001b[0mcasted_key\u001b[0m\u001b[1;33m)\u001b[0m\u001b[1;33m\u001b[0m\u001b[1;33m\u001b[0m\u001b[0m\n\u001b[0m\u001b[0;32m   3630\u001b[0m             \u001b[1;32mexcept\u001b[0m \u001b[0mKeyError\u001b[0m \u001b[1;32mas\u001b[0m \u001b[0merr\u001b[0m\u001b[1;33m:\u001b[0m\u001b[1;33m\u001b[0m\u001b[1;33m\u001b[0m\u001b[0m\n",
      "\u001b[1;32mC:\\ProgramData\\Anaconda3\\lib\\site-packages\\pandas\\_libs\\index.pyx\u001b[0m in \u001b[0;36mpandas._libs.index.IndexEngine.get_loc\u001b[1;34m()\u001b[0m\n",
      "\u001b[1;32mC:\\ProgramData\\Anaconda3\\lib\\site-packages\\pandas\\_libs\\index.pyx\u001b[0m in \u001b[0;36mpandas._libs.index.IndexEngine.get_loc\u001b[1;34m()\u001b[0m\n",
      "\u001b[1;32mpandas\\_libs\\hashtable_class_helper.pxi\u001b[0m in \u001b[0;36mpandas._libs.hashtable.PyObjectHashTable.get_item\u001b[1;34m()\u001b[0m\n",
      "\u001b[1;32mpandas\\_libs\\hashtable_class_helper.pxi\u001b[0m in \u001b[0;36mpandas._libs.hashtable.PyObjectHashTable.get_item\u001b[1;34m()\u001b[0m\n",
      "\u001b[1;31mKeyError\u001b[0m: 'Product_Name_clean'",
      "\nThe above exception was the direct cause of the following exception:\n",
      "\u001b[1;31mKeyError\u001b[0m                                  Traceback (most recent call last)",
      "\u001b[1;32m~\\AppData\\Local\\Temp\\ipykernel_8568\\3003273399.py\u001b[0m in \u001b[0;36m<module>\u001b[1;34m\u001b[0m\n\u001b[1;32m----> 1\u001b[1;33m \u001b[0mdf_unique_products\u001b[0m \u001b[1;33m=\u001b[0m \u001b[0mpd\u001b[0m\u001b[1;33m.\u001b[0m\u001b[0mDataFrame\u001b[0m\u001b[1;33m(\u001b[0m\u001b[0mdf\u001b[0m\u001b[1;33m[\u001b[0m\u001b[1;34m'Product_Name_clean'\u001b[0m\u001b[1;33m]\u001b[0m\u001b[1;33m.\u001b[0m\u001b[0mvalue_counts\u001b[0m\u001b[1;33m(\u001b[0m\u001b[1;33m)\u001b[0m\u001b[1;33m)\u001b[0m\u001b[1;33m.\u001b[0m\u001b[0mreset_index\u001b[0m\u001b[1;33m\u001b[0m\u001b[1;33m\u001b[0m\u001b[0m\n\u001b[0m\u001b[0;32m      2\u001b[0m \u001b[0mdf_unique_products\u001b[0m\u001b[1;33m\u001b[0m\u001b[1;33m\u001b[0m\u001b[0m\n",
      "\u001b[1;32mC:\\ProgramData\\Anaconda3\\lib\\site-packages\\pandas\\core\\frame.py\u001b[0m in \u001b[0;36m__getitem__\u001b[1;34m(self, key)\u001b[0m\n\u001b[0;32m   3503\u001b[0m             \u001b[1;32mif\u001b[0m \u001b[0mself\u001b[0m\u001b[1;33m.\u001b[0m\u001b[0mcolumns\u001b[0m\u001b[1;33m.\u001b[0m\u001b[0mnlevels\u001b[0m \u001b[1;33m>\u001b[0m \u001b[1;36m1\u001b[0m\u001b[1;33m:\u001b[0m\u001b[1;33m\u001b[0m\u001b[1;33m\u001b[0m\u001b[0m\n\u001b[0;32m   3504\u001b[0m                 \u001b[1;32mreturn\u001b[0m \u001b[0mself\u001b[0m\u001b[1;33m.\u001b[0m\u001b[0m_getitem_multilevel\u001b[0m\u001b[1;33m(\u001b[0m\u001b[0mkey\u001b[0m\u001b[1;33m)\u001b[0m\u001b[1;33m\u001b[0m\u001b[1;33m\u001b[0m\u001b[0m\n\u001b[1;32m-> 3505\u001b[1;33m             \u001b[0mindexer\u001b[0m \u001b[1;33m=\u001b[0m \u001b[0mself\u001b[0m\u001b[1;33m.\u001b[0m\u001b[0mcolumns\u001b[0m\u001b[1;33m.\u001b[0m\u001b[0mget_loc\u001b[0m\u001b[1;33m(\u001b[0m\u001b[0mkey\u001b[0m\u001b[1;33m)\u001b[0m\u001b[1;33m\u001b[0m\u001b[1;33m\u001b[0m\u001b[0m\n\u001b[0m\u001b[0;32m   3506\u001b[0m             \u001b[1;32mif\u001b[0m \u001b[0mis_integer\u001b[0m\u001b[1;33m(\u001b[0m\u001b[0mindexer\u001b[0m\u001b[1;33m)\u001b[0m\u001b[1;33m:\u001b[0m\u001b[1;33m\u001b[0m\u001b[1;33m\u001b[0m\u001b[0m\n\u001b[0;32m   3507\u001b[0m                 \u001b[0mindexer\u001b[0m \u001b[1;33m=\u001b[0m \u001b[1;33m[\u001b[0m\u001b[0mindexer\u001b[0m\u001b[1;33m]\u001b[0m\u001b[1;33m\u001b[0m\u001b[1;33m\u001b[0m\u001b[0m\n",
      "\u001b[1;32mC:\\ProgramData\\Anaconda3\\lib\\site-packages\\pandas\\core\\indexes\\base.py\u001b[0m in \u001b[0;36mget_loc\u001b[1;34m(self, key, method, tolerance)\u001b[0m\n\u001b[0;32m   3629\u001b[0m                 \u001b[1;32mreturn\u001b[0m \u001b[0mself\u001b[0m\u001b[1;33m.\u001b[0m\u001b[0m_engine\u001b[0m\u001b[1;33m.\u001b[0m\u001b[0mget_loc\u001b[0m\u001b[1;33m(\u001b[0m\u001b[0mcasted_key\u001b[0m\u001b[1;33m)\u001b[0m\u001b[1;33m\u001b[0m\u001b[1;33m\u001b[0m\u001b[0m\n\u001b[0;32m   3630\u001b[0m             \u001b[1;32mexcept\u001b[0m \u001b[0mKeyError\u001b[0m \u001b[1;32mas\u001b[0m \u001b[0merr\u001b[0m\u001b[1;33m:\u001b[0m\u001b[1;33m\u001b[0m\u001b[1;33m\u001b[0m\u001b[0m\n\u001b[1;32m-> 3631\u001b[1;33m                 \u001b[1;32mraise\u001b[0m \u001b[0mKeyError\u001b[0m\u001b[1;33m(\u001b[0m\u001b[0mkey\u001b[0m\u001b[1;33m)\u001b[0m \u001b[1;32mfrom\u001b[0m \u001b[0merr\u001b[0m\u001b[1;33m\u001b[0m\u001b[1;33m\u001b[0m\u001b[0m\n\u001b[0m\u001b[0;32m   3632\u001b[0m             \u001b[1;32mexcept\u001b[0m \u001b[0mTypeError\u001b[0m\u001b[1;33m:\u001b[0m\u001b[1;33m\u001b[0m\u001b[1;33m\u001b[0m\u001b[0m\n\u001b[0;32m   3633\u001b[0m                 \u001b[1;31m# If we have a listlike key, _check_indexing_error will raise\u001b[0m\u001b[1;33m\u001b[0m\u001b[1;33m\u001b[0m\u001b[0m\n",
      "\u001b[1;31mKeyError\u001b[0m: 'Product_Name_clean'"
     ]
    }
   ],
   "source": [
    "df_unique_products = pd.DataFrame(df['Product_Name_clean'].value_counts()).reset_index\n",
    "df_unique_products"
   ]
  },
  {
   "cell_type": "code",
   "execution_count": null,
   "id": "a46f6bfc-1ac8-4ff8-8b81-d200c6081755",
   "metadata": {},
   "outputs": [],
   "source": []
  }
 ],
 "metadata": {
  "kernelspec": {
   "display_name": "Python 3 (ipykernel)",
   "language": "python",
   "name": "python3"
  },
  "language_info": {
   "codemirror_mode": {
    "name": "ipython",
    "version": 3
   },
   "file_extension": ".py",
   "mimetype": "text/x-python",
   "name": "python",
   "nbconvert_exporter": "python",
   "pygments_lexer": "ipython3",
   "version": "3.9.13"
  }
 },
 "nbformat": 4,
 "nbformat_minor": 5
}
